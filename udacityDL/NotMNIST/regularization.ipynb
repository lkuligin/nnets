{
 "cells": [
  {
   "cell_type": "code",
   "execution_count": 1,
   "metadata": {
    "collapsed": false
   },
   "outputs": [
    {
     "name": "stderr",
     "output_type": "stream",
     "text": [
      "/Users/lkuligin/anaconda2/lib/python2.7/site-packages/matplotlib/font_manager.py:273: UserWarning: Matplotlib is building the font cache using fc-list. This may take a moment.\n",
      "  warnings.warn('Matplotlib is building the font cache using fc-list. This may take a moment.')\n"
     ]
    }
   ],
   "source": [
    "from __future__ import print_function\n",
    "%matplotlib inline\n",
    "import matplotlib.pyplot as plt\n",
    "import numpy as np\n",
    "import tensorflow as tf\n",
    "from six.moves import cPickle as pickle\n",
    "# Config the matplotlib backend as plotting inline in IPython\n",
    "%config InlineBackend.figure_format = 'retina'"
   ]
  },
  {
   "cell_type": "code",
   "execution_count": 2,
   "metadata": {
    "collapsed": true
   },
   "outputs": [],
   "source": [
    "#pickle_file = 'notMNIST.pickle'\n",
    "pickle_file = 'notMNIST_clean.pickle'\n",
    "data = {}\n",
    "try:\n",
    "    with open(pickle_file, 'rb') as f:\n",
    "        data = pickle.load(f)\n",
    "        train_dataset = data['train_dataset']\n",
    "        train_labels = data['train_labels']\n",
    "        valid_dataset = data['valid_dataset']\n",
    "        valid_labels = data['valid_labels']\n",
    "        test_dataset = data['test_dataset']\n",
    "        test_labels = data['test_labels']\n",
    "    del data\n",
    "except Exception as e:\n",
    "    print('Unable to load data from', pickle_file, ':', e)"
   ]
  },
  {
   "cell_type": "code",
   "execution_count": 3,
   "metadata": {
    "collapsed": false
   },
   "outputs": [
    {
     "name": "stdout",
     "output_type": "stream",
     "text": [
      "Training set (185307, 784) (185307, 10)\n",
      "Validation set (8856, 784) (8856, 10)\n",
      "Test set (8609, 784) (8609, 10)\n"
     ]
    }
   ],
   "source": [
    "IMAGE_SIZE = 28\n",
    "NUM_LABELS = 10\n",
    "\n",
    "def reformat(dataset, labels):\n",
    "    dataset = dataset.reshape((-1, IMAGE_SIZE **2 )).astype(np.float32)\n",
    "    labels = (np.arange(NUM_LABELS) == labels[:,None]).astype(np.float32)\n",
    "    return dataset, labels\n",
    "\n",
    "train_dataset, train_labels = reformat(train_dataset, train_labels)\n",
    "valid_dataset, valid_labels = reformat(valid_dataset, valid_labels)\n",
    "test_dataset, test_labels = reformat(test_dataset, test_labels)\n",
    "print('Training set', train_dataset.shape, train_labels.shape)\n",
    "print('Validation set', valid_dataset.shape, valid_labels.shape)\n",
    "print('Test set', test_dataset.shape, test_labels.shape)"
   ]
  },
  {
   "cell_type": "code",
   "execution_count": 4,
   "metadata": {
    "collapsed": true
   },
   "outputs": [],
   "source": [
    "def accuracy(predictions, labels):\n",
    "    return (100.0 * np.sum(np.argmax(predictions, 1) == np.argmax(labels, 1))\n",
    "          / predictions.shape[0])"
   ]
  },
  {
   "cell_type": "markdown",
   "metadata": {},
   "source": [
    "# Problem 1"
   ]
  },
  {
   "cell_type": "markdown",
   "metadata": {},
   "source": [
    "Introduce and tune L2 regularization for both logistic and neural network models. Remember that L2 amounts to adding a penalty on the norm of the weights to the loss. In TensorFlow, you can compute the L2 loss for a tensor t using nn.l2_loss(t). The right amount of regularization should improve your validation / test accuracy."
   ]
  },
  {
   "cell_type": "code",
   "execution_count": 16,
   "metadata": {
    "collapsed": false
   },
   "outputs": [],
   "source": [
    "batch_size = 128\n",
    "\n",
    "graph = tf.Graph()\n",
    "with graph.as_default():\n",
    "    tf_train_dataset = tf.placeholder(tf.float32,\n",
    "                                      shape=(batch_size, IMAGE_SIZE **2))\n",
    "    tf_train_labels = tf.placeholder(tf.float32, shape=(batch_size, NUM_LABELS))\n",
    "    tf_valid_dataset = tf.constant(valid_dataset)\n",
    "    tf_test_dataset = tf.constant(test_dataset)\n",
    "    \n",
    "    weights = tf.Variable(\n",
    "    tf.truncated_normal([IMAGE_SIZE **2, NUM_LABELS]))\n",
    "    biases = tf.Variable(tf.zeros([NUM_LABELS]))\n",
    "    tf_beta = tf.placeholder(tf.float32)\n",
    "    \n",
    "    logits = tf.matmul(tf_train_dataset, weights) + biases\n",
    "    loss = tf.reduce_mean(\n",
    "        tf.nn.softmax_cross_entropy_with_logits(labels=tf_train_labels, logits=logits) \n",
    "        + tf_beta*tf.nn.l2_loss(weights))\n",
    "  \n",
    "    optimizer = tf.train.GradientDescentOptimizer(0.5).minimize(loss)\n",
    "    \n",
    "    train_prediction = tf.nn.softmax(logits)\n",
    "    valid_prediction = tf.nn.softmax(\n",
    "        tf.matmul(tf_valid_dataset, weights) + biases)\n",
    "    test_prediction = tf.nn.softmax(tf.matmul(tf_test_dataset, weights) + biases)"
   ]
  },
  {
   "cell_type": "code",
   "execution_count": 59,
   "metadata": {
    "collapsed": false
   },
   "outputs": [],
   "source": [
    "num_steps = 3001\n",
    "accuracy_obs = {}\n",
    "\n",
    "#for beta in np.arange(0., 1.0, 0.05):\n",
    "for beta in np.arange(0., 10.**-2, 5*10.**-4):\n",
    "    with tf.Session(graph=graph) as session:\n",
    "        tf.global_variables_initializer().run()\n",
    "        for step in range(num_steps):\n",
    "            offset = (step * batch_size) % (train_labels.shape[0] - batch_size)\n",
    "            batch_data = train_dataset[offset:(offset + batch_size), :]\n",
    "            batch_labels = train_labels[offset:(offset + batch_size), :]\n",
    "            feed_dict = {tf_train_dataset : batch_data, tf_train_labels : batch_labels, tf_beta: beta}\n",
    "            _, l, predictions = session.run([optimizer, loss, train_prediction], feed_dict=feed_dict)   \n",
    "        accuracy_obs[beta] = accuracy(test_prediction.eval(), test_labels)"
   ]
  },
  {
   "cell_type": "code",
   "execution_count": 58,
   "metadata": {
    "collapsed": false
   },
   "outputs": [
    {
     "data": {
      "image/png": "[encoded data removed]",
      "text/plain": [
       "<matplotlib.figure.Figure at 0x152250210>"
      ]
     },
     "metadata": {
      "image/png": {
       "height": 221,
       "width": 562
      }
     },
     "output_type": "display_data"
    }
   ],
   "source": [
    "x = sorted([key for key in accuracy_obs.keys()])\n",
    "plt.figure(1)\n",
    "plt.subplot(211)\n",
    "plt.plot(x, [accuracy_obs[x_] for x_ in x])\n",
    "plt.title(\"L2-reg for LogRegression\")\n",
    "plt.xlabel(\"regularaiazion beta\")\n",
    "plt.ylabel(\"accuracy\");"
   ]
  },
  {
   "cell_type": "code",
   "execution_count": 61,
   "metadata": {
    "collapsed": false
   },
   "outputs": [],
   "source": [
    "BATCH_SIZE = 128\n",
    "HIDDEN_NODES = 1024\n",
    "\n",
    "graph = tf.Graph()\n",
    "def calculate_layer1(prev_layer, weights, biases):\n",
    "    return tf.nn.relu(tf.matmul(prev_layer, weights) + biases)\n",
    "\n",
    "with graph.as_default():\n",
    "    tf_train_dataset = tf.placeholder(tf.float32,\n",
    "                                      shape=(BATCH_SIZE, IMAGE_SIZE**2))\n",
    "    tf_train_labels = tf.placeholder(tf.float32, shape=(BATCH_SIZE, NUM_LABELS))\n",
    "    tf_valid_dataset = tf.constant(valid_dataset)\n",
    "    tf_test_dataset = tf.constant(test_dataset)\n",
    "    tf_beta = tf.placeholder(tf.float32)\n",
    "    \n",
    "    weights0 = tf.Variable(tf.truncated_normal([IMAGE_SIZE **2, HIDDEN_NODES]))\n",
    "    biases0 = tf.Variable(tf.zeros([HIDDEN_NODES]))\n",
    "    weights = tf.Variable(tf.truncated_normal([HIDDEN_NODES, NUM_LABELS]))\n",
    "    biases = tf.Variable(tf.zeros([NUM_LABELS]))\n",
    "    \n",
    "    tf_train_layer1 = calculate_layer1(tf_train_dataset, weights0, biases0) \n",
    "    logits = tf.matmul(tf_train_layer1, weights) + biases\n",
    "    loss = (tf.reduce_mean(tf.nn.softmax_cross_entropy_with_logits(labels=tf_train_labels, logits=logits)) + \n",
    "            tf_beta * (tf.nn.l2_loss(weights0)+tf.nn.l2_loss(weights)))\n",
    "  \n",
    "    optimizer = tf.train.GradientDescentOptimizer(0.5).minimize(loss)\n",
    "    \n",
    "    train_prediction = tf.nn.softmax(logits)\n",
    "    \n",
    "    tf_valid_layer1 = calculate_layer1(tf_valid_dataset, weights0, biases0) \n",
    "    valid_prediction = tf.nn.softmax(tf.matmul(tf_valid_layer1, weights) + biases)\n",
    "    tf_test_layer1 = calculate_layer1(tf_test_dataset, weights0, biases0)\n",
    "    test_prediction = tf.nn.softmax(tf.matmul(tf_test_layer1, weights) + biases)"
   ]
  },
  {
   "cell_type": "code",
   "execution_count": 62,
   "metadata": {
    "collapsed": true
   },
   "outputs": [],
   "source": [
    "num_steps = 3001\n",
    "accuracy_obs = {}\n",
    "\n",
    "for beta in np.arange(0., 10.**-2, 5*10.**-4):\n",
    "    with tf.Session(graph=graph) as session:\n",
    "        tf.global_variables_initializer().run()\n",
    "        for step in range(num_steps):\n",
    "            offset = (step * batch_size) % (train_labels.shape[0] - batch_size)\n",
    "            batch_data = train_dataset[offset:(offset + batch_size), :]\n",
    "            batch_labels = train_labels[offset:(offset + batch_size), :]\n",
    "            feed_dict = {tf_train_dataset : batch_data, tf_train_labels : batch_labels, tf_beta : beta}\n",
    "            _, l, predictions = session.run(\n",
    "                [optimizer, loss, train_prediction], feed_dict=feed_dict)\n",
    "        accuracy_obs[beta] = accuracy(test_prediction.eval(), test_labels)"
   ]
  },
  {
   "cell_type": "code",
   "execution_count": 63,
   "metadata": {
    "collapsed": false
   },
   "outputs": [
    {
     "data": {
      "image/png": "[encoded data removed]",
      "text/plain": [
       "<matplotlib.figure.Figure at 0x111b57710>"
      ]
     },
     "metadata": {
      "image/png": {
       "height": 221,
       "width": 548
      }
     },
     "output_type": "display_data"
    }
   ],
   "source": [
    "x = sorted([key for key in accuracy_obs.keys()])\n",
    "plt.figure(1)\n",
    "plt.subplot(211)\n",
    "plt.plot(x, [accuracy_obs[x_] for x_ in x])\n",
    "plt.title(\"L2-reg for 1layer nnet\")\n",
    "plt.xlabel(\"regularaiazion beta\")\n",
    "plt.ylabel(\"accuracy\");"
   ]
  },
  {
   "cell_type": "code",
   "execution_count": 80,
   "metadata": {
    "collapsed": false
   },
   "outputs": [
    {
     "name": "stdout",
     "output_type": "stream",
     "text": [
      "Best regularization parameter: 0.0015\n"
     ]
    }
   ],
   "source": [
    "print(\"Best regularization parameter: {0:.4f}\".format(\n",
    "        [key for key, value in accuracy_obs.iteritems() if value == max(accuracy_obs.values())][0]))"
   ]
  },
  {
   "cell_type": "markdown",
   "metadata": {},
   "source": [
    "# Problem 2"
   ]
  },
  {
   "cell_type": "markdown",
   "metadata": {},
   "source": [
    "Let's demonstrate an extreme case of overfitting. Restrict your training data to just a few batches. What happens?"
   ]
  },
  {
   "cell_type": "code",
   "execution_count": 64,
   "metadata": {
    "collapsed": false
   },
   "outputs": [
    {
     "name": "stdout",
     "output_type": "stream",
     "text": [
      "Initialized\n",
      "Minibatch loss at step 0: 349.798889\n",
      "Minibatch accuracy: 7.0%\n",
      "Validation accuracy: 32.9%\n",
      "Minibatch loss at step 50: 55.463249\n",
      "Minibatch accuracy: 68.8%\n",
      "Validation accuracy: 73.2%\n",
      "Test accuracy: 82.2%\n"
     ]
    }
   ],
   "source": [
    "BATCH_SIZE = 128\n",
    "HIDDEN_NODES = 1024\n",
    "\n",
    "graph = tf.Graph()\n",
    "def calculate_layer1(prev_layer, weights, biases):\n",
    "    return tf.nn.relu(tf.matmul(prev_layer, weights) + biases)\n",
    "\n",
    "with graph.as_default():\n",
    "    tf_train_dataset = tf.placeholder(tf.float32,\n",
    "                                      shape=(BATCH_SIZE, IMAGE_SIZE**2))\n",
    "    tf_train_labels = tf.placeholder(tf.float32, shape=(BATCH_SIZE, NUM_LABELS))\n",
    "    tf_valid_dataset = tf.constant(valid_dataset)\n",
    "    tf_test_dataset = tf.constant(test_dataset)\n",
    "    \n",
    "    weights0 = tf.Variable(tf.truncated_normal([IMAGE_SIZE **2, HIDDEN_NODES]))\n",
    "    biases0 = tf.Variable(tf.zeros([HIDDEN_NODES]))\n",
    "    weights = tf.Variable(tf.truncated_normal([HIDDEN_NODES, NUM_LABELS]))\n",
    "    biases = tf.Variable(tf.zeros([NUM_LABELS]))\n",
    "    \n",
    "    tf_train_layer1 = calculate_layer1(tf_train_dataset, weights0, biases0) \n",
    "    logits = tf.matmul(tf_train_layer1, weights) + biases\n",
    "    loss = tf.reduce_mean(\n",
    "        tf.nn.softmax_cross_entropy_with_logits(labels=tf_train_labels, logits=logits))\n",
    "  \n",
    "    optimizer = tf.train.GradientDescentOptimizer(0.5).minimize(loss)\n",
    "    \n",
    "    train_prediction = tf.nn.softmax(logits)\n",
    "    \n",
    "    tf_valid_layer1 = calculate_layer1(tf_valid_dataset, weights0, biases0) \n",
    "    valid_prediction = tf.nn.softmax(tf.matmul(tf_valid_layer1, weights) + biases)\n",
    "    tf_test_layer1 = calculate_layer1(tf_test_dataset, weights0, biases0)\n",
    "    test_prediction = tf.nn.softmax(tf.matmul(tf_test_layer1, weights) + biases)\n",
    "\n",
    "num_steps = 100\n",
    "\n",
    "with tf.Session(graph=graph) as session:\n",
    "    tf.global_variables_initializer().run()\n",
    "    print(\"Initialized\")\n",
    "    for step in range(num_steps):\n",
    "        offset = (step * BATCH_SIZE) % (train_labels.shape[0] - BATCH_SIZE)\n",
    "        batch_data = train_dataset[offset:(offset + BATCH_SIZE), :]\n",
    "        batch_labels = train_labels[offset:(offset + BATCH_SIZE), :]\n",
    "        feed_dict = {tf_train_dataset : batch_data, tf_train_labels : batch_labels}\n",
    "        _, l, predictions = session.run(\n",
    "            [optimizer, loss, train_prediction], feed_dict=feed_dict)\n",
    "        if (step % 50 == 0):\n",
    "            print(\"Minibatch loss at step %d: %f\" % (step, l))\n",
    "            print(\"Minibatch accuracy: %.1f%%\" % accuracy(predictions, batch_labels))\n",
    "            print(\"Validation accuracy: %.1f%%\" % accuracy(valid_prediction.eval(), valid_labels))\n",
    "    print(\"Test accuracy: %.1f%%\" % accuracy(test_prediction.eval(), test_labels))"
   ]
  },
  {
   "cell_type": "markdown",
   "metadata": {},
   "source": [
    "# Problem 3"
   ]
  },
  {
   "cell_type": "markdown",
   "metadata": {},
   "source": [
    "Introduce Dropout on the hidden layer of the neural network. Remember: Dropout should only be introduced during training, not evaluation, otherwise your evaluation results would be stochastic as well. TensorFlow provides nn.dropout() for that, but you have to make sure it's only inserted during training."
   ]
  },
  {
   "cell_type": "code",
   "execution_count": 17,
   "metadata": {
    "collapsed": false
   },
   "outputs": [
    {
     "name": "stdout",
     "output_type": "stream",
     "text": [
      "Initialized\n",
      "Minibatch loss at step 0: 589.440186\n",
      "Minibatch accuracy: 7.8%\n",
      "Validation accuracy: 23.8%\n",
      "Minibatch loss at step 500: 40.427826\n",
      "Minibatch accuracy: 64.1%\n",
      "Validation accuracy: 78.4%\n",
      "Minibatch loss at step 1000: 20.421654\n",
      "Minibatch accuracy: 69.5%\n",
      "Validation accuracy: 76.5%\n",
      "Minibatch loss at step 1500: 28.651527\n",
      "Minibatch accuracy: 71.1%\n",
      "Validation accuracy: 76.9%\n",
      "Minibatch loss at step 2000: 17.213072\n",
      "Minibatch accuracy: 65.6%\n",
      "Validation accuracy: 75.2%\n",
      "Minibatch loss at step 2500: 6.436152\n",
      "Minibatch accuracy: 69.5%\n",
      "Validation accuracy: 75.1%\n",
      "Minibatch loss at step 3000: 14.252106\n",
      "Minibatch accuracy: 72.7%\n",
      "Validation accuracy: 74.3%\n",
      "Test accuracy: 81.5%\n"
     ]
    }
   ],
   "source": [
    "BATCH_SIZE = 128\n",
    "HIDDEN_NODES = 1024\n",
    "KEEP_PROB = .4\n",
    "\n",
    "graph = tf.Graph()\n",
    "def calculate_layer1(prev_layer, weights, biases):\n",
    "    return tf.nn.relu(tf.matmul(prev_layer, weights) + biases)\n",
    "\n",
    "with graph.as_default():\n",
    "    tf_train_dataset = tf.placeholder(tf.float32,\n",
    "                                      shape=(BATCH_SIZE, IMAGE_SIZE**2))\n",
    "    tf_train_labels = tf.placeholder(tf.float32, shape=(BATCH_SIZE, NUM_LABELS))\n",
    "    tf_valid_dataset = tf.constant(valid_dataset)\n",
    "    tf_test_dataset = tf.constant(test_dataset)\n",
    "    \n",
    "    weights0 = tf.Variable(tf.truncated_normal([IMAGE_SIZE **2, HIDDEN_NODES]))\n",
    "    biases0 = tf.Variable(tf.zeros([HIDDEN_NODES]))\n",
    "    weights = tf.Variable(tf.truncated_normal([HIDDEN_NODES, NUM_LABELS]))\n",
    "    biases = tf.Variable(tf.zeros([NUM_LABELS]))\n",
    "    \n",
    "    tf_train_layer1 = calculate_layer1(tf_train_dataset, weights0, biases0)\n",
    "    dropout1 = tf.nn.dropout(tf_train_layer1, KEEP_PROB)\n",
    "    logits = tf.matmul(dropout1, weights) + biases\n",
    "    loss = tf.reduce_mean(\n",
    "        tf.nn.softmax_cross_entropy_with_logits(labels=tf_train_labels, logits=logits))\n",
    "  \n",
    "    optimizer = tf.train.GradientDescentOptimizer(0.5).minimize(loss)\n",
    "    \n",
    "    train_prediction = tf.nn.softmax(logits)\n",
    "    \n",
    "    tf_valid_layer1 = calculate_layer1(tf_valid_dataset, weights0, biases0) \n",
    "    valid_prediction = tf.nn.softmax(tf.matmul(tf_valid_layer1, weights) + biases)\n",
    "    tf_test_layer1 = calculate_layer1(tf_test_dataset, weights0, biases0)\n",
    "    test_prediction = tf.nn.softmax(tf.matmul(tf_test_layer1, weights) + biases)\n",
    "\n",
    "num_steps = 3001\n",
    "\n",
    "with tf.Session(graph=graph) as session:\n",
    "    tf.global_variables_initializer().run()\n",
    "    print(\"Initialized\")\n",
    "    for step in range(num_steps):\n",
    "        offset = (step * BATCH_SIZE) % (train_labels.shape[0] - BATCH_SIZE)\n",
    "        batch_data = train_dataset[offset:(offset + BATCH_SIZE), :]\n",
    "        batch_labels = train_labels[offset:(offset + BATCH_SIZE), :]\n",
    "        feed_dict = {tf_train_dataset : batch_data, tf_train_labels : batch_labels}\n",
    "        _, l, predictions = session.run(\n",
    "            [optimizer, loss, train_prediction], feed_dict=feed_dict)\n",
    "        if (step % 500 == 0):\n",
    "            print(\"Minibatch loss at step %d: %f\" % (step, l))\n",
    "            print(\"Minibatch accuracy: %.1f%%\" % accuracy(predictions, batch_labels))\n",
    "            print(\"Validation accuracy: %.1f%%\" % accuracy(valid_prediction.eval(), valid_labels))\n",
    "    print(\"Test accuracy: %.1f%%\" % accuracy(test_prediction.eval(), test_labels))"
   ]
  },
  {
   "cell_type": "markdown",
   "metadata": {
    "collapsed": true
   },
   "source": [
    "# Problem 4"
   ]
  },
  {
   "cell_type": "markdown",
   "metadata": {},
   "source": [
    "Try to get the best performance you can using a multi-layer model! The best reported test accuracy using a deep network is 97.1%.\n",
    "One avenue you can explore is to add multiple layers."
   ]
  },
  {
   "cell_type": "code",
   "execution_count": 31,
   "metadata": {
    "collapsed": false
   },
   "outputs": [
    {
     "name": "stdout",
     "output_type": "stream",
     "text": [
      "Initialized\n",
      "Test accuracy: 93.0%\n"
     ]
    }
   ],
   "source": [
    "BATCH_SIZE = 128\n",
    "HIDDEN_NODES1 = 1024\n",
    "HIDDEN_NODES2 = 512\n",
    "KEEP_PROB = .5\n",
    "\n",
    "graph = tf.Graph()\n",
    "def calculate_layer(prev_layer, weights, biases):\n",
    "    return tf.nn.relu(tf.matmul(prev_layer, weights) + biases)\n",
    "\n",
    "with graph.as_default():\n",
    "    tf_train_dataset = tf.placeholder(tf.float32,\n",
    "                                      shape=(BATCH_SIZE, IMAGE_SIZE**2))\n",
    "    tf_train_labels = tf.placeholder(tf.float32, shape=(BATCH_SIZE, NUM_LABELS))\n",
    "    tf_valid_dataset = tf.constant(valid_dataset)\n",
    "    tf_test_dataset = tf.constant(test_dataset)\n",
    "    tf_beta = tf.constant(BETA)\n",
    "    \n",
    "    \n",
    "    weights0 = tf.Variable(tf.truncated_normal([IMAGE_SIZE **2, HIDDEN_NODES1],\n",
    "                                              stddev = np.sqrt(2./IMAGE_SIZE ** 2)))\n",
    "    biases0 = tf.Variable(tf.zeros([HIDDEN_NODES1]))\n",
    "    weights1 = tf.Variable(tf.truncated_normal([HIDDEN_NODES1, HIDDEN_NODES2],\n",
    "                                               stddev = np.sqrt(2./HIDDEN_NODES1)))\n",
    "    biases1 = tf.Variable(tf.zeros([HIDDEN_NODES2]))\n",
    "    weights = tf.Variable(tf.truncated_normal([HIDDEN_NODES2, NUM_LABELS],\n",
    "                                              stddev = np.sqrt(2./HIDDEN_NODES2)))\n",
    "    biases = tf.Variable(tf.zeros([NUM_LABELS]))\n",
    "    \n",
    "    tf_train_layer1 = calculate_layer(tf_train_dataset, weights0, biases0)\n",
    "    #dropout1 = tf.nn.dropout(tf_train_layer1, KEEP_PROB)\n",
    "    tf_train_layer2 = calculate_layer(tf_train_layer1, weights1, biases1)\n",
    "    #dropout2 = tf.nn.dropout(tf_train_layer2, KEEP_PROB)\n",
    "    logits = tf.matmul(tf_train_layer2, weights) + biases\n",
    "    loss = tf.reduce_mean(tf.nn.softmax_cross_entropy_with_logits(labels=tf_train_labels, logits=logits)) + \\\n",
    "        tf_beta * (tf.nn.l2_loss(weights0)+tf.nn.l2_loss(weights1)+tf.nn.l2_loss(weights))\n",
    "  \n",
    "    optimizer = tf.train.GradientDescentOptimizer(0.5).minimize(loss)\n",
    "    \n",
    "    train_prediction = tf.nn.softmax(logits)\n",
    "    \n",
    "    tf_valid_layer1 = calculate_layer1(tf_valid_dataset, weights0, biases0) \n",
    "    tf_valid_layer2 = calculate_layer1(tf_valid_layer1, weights1, biases1) \n",
    "    valid_prediction = tf.nn.softmax(tf.matmul(tf_valid_layer2, weights) + biases)\n",
    "    tf_test_layer1 = calculate_layer1(tf_test_dataset, weights0, biases0)\n",
    "    tf_test_layer2 = calculate_layer1(tf_test_layer1, weights1, biases1) \n",
    "    test_prediction = tf.nn.softmax(tf.matmul(tf_test_layer2, weights) + biases)\n",
    "\n",
    "num_steps = 3001\n",
    "\n",
    "with tf.Session(graph=graph) as session:\n",
    "    tf.global_variables_initializer().run()\n",
    "    print(\"Initialized\")\n",
    "    for step in range(num_steps):\n",
    "        offset = (step * BATCH_SIZE) % (train_labels.shape[0] - BATCH_SIZE)\n",
    "        batch_data = train_dataset[offset:(offset + BATCH_SIZE), :]\n",
    "        batch_labels = train_labels[offset:(offset + BATCH_SIZE), :]\n",
    "        feed_dict = {tf_train_dataset : batch_data, tf_train_labels : batch_labels}\n",
    "        _, l, predictions = session.run(\n",
    "            [optimizer, loss, train_prediction], feed_dict=feed_dict)\n",
    "    print(\"Test accuracy: %.1f%%\" % accuracy(test_prediction.eval(), test_labels))"
   ]
  },
  {
   "cell_type": "code",
   "execution_count": 37,
   "metadata": {
    "collapsed": false
   },
   "outputs": [
    {
     "name": "stdout",
     "output_type": "stream",
     "text": [
      "Initialized\n",
      "Test accuracy: 93.5%\n"
     ]
    }
   ],
   "source": [
    "BATCH_SIZE = 128\n",
    "HIDDEN_NODES1 = 1024\n",
    "HIDDEN_NODES2 = 512\n",
    "KEEP_PROB = .5\n",
    "\n",
    "graph = tf.Graph()\n",
    "def calculate_layer(prev_layer, weights, biases):\n",
    "    return tf.nn.relu(tf.matmul(prev_layer, weights) + biases)\n",
    "\n",
    "with graph.as_default():\n",
    "    tf_train_dataset = tf.placeholder(tf.float32,\n",
    "                                      shape=(BATCH_SIZE, IMAGE_SIZE**2))\n",
    "    tf_train_labels = tf.placeholder(tf.float32, shape=(BATCH_SIZE, NUM_LABELS))\n",
    "    tf_valid_dataset = tf.constant(valid_dataset)\n",
    "    tf_test_dataset = tf.constant(test_dataset)\n",
    "    tf_beta = tf.constant(BETA)\n",
    "    global_step = tf.Variable(0)\n",
    "    \n",
    "    \n",
    "    weights0 = tf.Variable(tf.truncated_normal([IMAGE_SIZE **2, HIDDEN_NODES1],\n",
    "                                              stddev = np.sqrt(2./IMAGE_SIZE ** 2)))\n",
    "    biases0 = tf.Variable(tf.zeros([HIDDEN_NODES1]))\n",
    "    weights1 = tf.Variable(tf.truncated_normal([HIDDEN_NODES1, HIDDEN_NODES2],\n",
    "                                               stddev = np.sqrt(2./HIDDEN_NODES1)))\n",
    "    biases1 = tf.Variable(tf.zeros([HIDDEN_NODES2]))\n",
    "    weights = tf.Variable(tf.truncated_normal([HIDDEN_NODES2, NUM_LABELS],\n",
    "                                              stddev = np.sqrt(2./HIDDEN_NODES2)))\n",
    "    biases = tf.Variable(tf.zeros([NUM_LABELS]))\n",
    "    \n",
    "    tf_train_layer1 = calculate_layer(tf_train_dataset, weights0, biases0)\n",
    "    #dropout1 = tf.nn.dropout(tf_train_layer1, KEEP_PROB)\n",
    "    tf_train_layer2 = calculate_layer(tf_train_layer1, weights1, biases1)\n",
    "    #dropout2 = tf.nn.dropout(tf_train_layer2, KEEP_PROB)\n",
    "    logits = tf.matmul(tf_train_layer2, weights) + biases\n",
    "    loss = tf.reduce_mean(tf.nn.softmax_cross_entropy_with_logits(labels=tf_train_labels, logits=logits)) + \\\n",
    "        tf_beta * (tf.nn.l2_loss(weights0)+tf.nn.l2_loss(weights1)+tf.nn.l2_loss(weights))\n",
    "    \n",
    "    learning_rate = tf.train.exponential_decay(0.5, step, 500, 0.96, staircase=True)\n",
    "    optimizer = tf.train.GradientDescentOptimizer(learning_rate).minimize(loss, global_step=global_step)\n",
    "    #optimizer = tf.train.GradientDescentOptimizer(0.5).minimize(loss)\n",
    "    \n",
    "    train_prediction = tf.nn.softmax(logits)\n",
    "    \n",
    "    tf_valid_layer1 = calculate_layer1(tf_valid_dataset, weights0, biases0) \n",
    "    tf_valid_layer2 = calculate_layer1(tf_valid_layer1, weights1, biases1) \n",
    "    valid_prediction = tf.nn.softmax(tf.matmul(tf_valid_layer2, weights) + biases)\n",
    "    tf_test_layer1 = calculate_layer1(tf_test_dataset, weights0, biases0)\n",
    "    tf_test_layer2 = calculate_layer1(tf_test_layer1, weights1, biases1) \n",
    "    test_prediction = tf.nn.softmax(tf.matmul(tf_test_layer2, weights) + biases)\n",
    "\n",
    "num_steps = 6001\n",
    "\n",
    "with tf.Session(graph=graph) as session:\n",
    "    tf.global_variables_initializer().run()\n",
    "    print(\"Initialized\")\n",
    "    for step in range(num_steps):\n",
    "        offset = (step * BATCH_SIZE) % (train_labels.shape[0] - BATCH_SIZE)\n",
    "        batch_data = train_dataset[offset:(offset + BATCH_SIZE), :]\n",
    "        batch_labels = train_labels[offset:(offset + BATCH_SIZE), :]\n",
    "        feed_dict = {tf_train_dataset : batch_data, tf_train_labels : batch_labels}\n",
    "        _, l, predictions = session.run(\n",
    "            [optimizer, loss, train_prediction], feed_dict=feed_dict)\n",
    "    print(\"Test accuracy: %.1f%%\" % accuracy(test_prediction.eval(), test_labels))"
   ]
  },
  {
   "cell_type": "code",
   "execution_count": 38,
   "metadata": {
    "collapsed": false
   },
   "outputs": [
    {
     "name": "stdout",
     "output_type": "stream",
     "text": [
      "Initialized\n",
      "Test accuracy: 93.7%\n"
     ]
    }
   ],
   "source": [
    "BATCH_SIZE = 128\n",
    "HIDDEN_NODES1 = 1024\n",
    "HIDDEN_NODES2 = 512\n",
    "KEEP_PROB = .5\n",
    "\n",
    "graph = tf.Graph()\n",
    "def calculate_layer(prev_layer, weights, biases):\n",
    "    return tf.nn.relu(tf.matmul(prev_layer, weights) + biases)\n",
    "\n",
    "with graph.as_default():\n",
    "    tf_train_dataset = tf.placeholder(tf.float32,\n",
    "                                      shape=(BATCH_SIZE, IMAGE_SIZE**2))\n",
    "    tf_train_labels = tf.placeholder(tf.float32, shape=(BATCH_SIZE, NUM_LABELS))\n",
    "    tf_valid_dataset = tf.constant(valid_dataset)\n",
    "    tf_test_dataset = tf.constant(test_dataset)\n",
    "    tf_beta = tf.constant(BETA)\n",
    "    global_step = tf.Variable(0)\n",
    "    \n",
    "    \n",
    "    weights0 = tf.Variable(tf.truncated_normal([IMAGE_SIZE **2, HIDDEN_NODES1],\n",
    "                                              stddev = np.sqrt(2./IMAGE_SIZE ** 2)))\n",
    "    biases0 = tf.Variable(tf.zeros([HIDDEN_NODES1]))\n",
    "    weights1 = tf.Variable(tf.truncated_normal([HIDDEN_NODES1, HIDDEN_NODES2],\n",
    "                                               stddev = np.sqrt(2./HIDDEN_NODES1)))\n",
    "    biases1 = tf.Variable(tf.zeros([HIDDEN_NODES2]))\n",
    "    weights = tf.Variable(tf.truncated_normal([HIDDEN_NODES2, NUM_LABELS],\n",
    "                                              stddev = np.sqrt(2./HIDDEN_NODES2)))\n",
    "    biases = tf.Variable(tf.zeros([NUM_LABELS]))\n",
    "    \n",
    "    tf_train_layer1 = calculate_layer(tf_train_dataset, weights0, biases0)\n",
    "    #dropout1 = tf.nn.dropout(tf_train_layer1, KEEP_PROB)\n",
    "    tf_train_layer2 = calculate_layer(tf_train_layer1, weights1, biases1)\n",
    "    #dropout2 = tf.nn.dropout(tf_train_layer2, KEEP_PROB)\n",
    "    logits = tf.matmul(tf_train_layer2, weights) + biases\n",
    "    loss = tf.reduce_mean(tf.nn.softmax_cross_entropy_with_logits(labels=tf_train_labels, logits=logits)) + \\\n",
    "        tf_beta * (tf.nn.l2_loss(weights0)+tf.nn.l2_loss(weights1)+tf.nn.l2_loss(weights))\n",
    "    \n",
    "    learning_rate = tf.train.exponential_decay(0.5, step, 500, 0.96, staircase=True)\n",
    "    optimizer = tf.train.GradientDescentOptimizer(learning_rate).minimize(loss, global_step=global_step)\n",
    "    #optimizer = tf.train.GradientDescentOptimizer(0.5).minimize(loss)\n",
    "    \n",
    "    train_prediction = tf.nn.softmax(logits)\n",
    "    \n",
    "    tf_valid_layer1 = calculate_layer1(tf_valid_dataset, weights0, biases0) \n",
    "    tf_valid_layer2 = calculate_layer1(tf_valid_layer1, weights1, biases1) \n",
    "    valid_prediction = tf.nn.softmax(tf.matmul(tf_valid_layer2, weights) + biases)\n",
    "    tf_test_layer1 = calculate_layer1(tf_test_dataset, weights0, biases0)\n",
    "    tf_test_layer2 = calculate_layer1(tf_test_layer1, weights1, biases1) \n",
    "    test_prediction = tf.nn.softmax(tf.matmul(tf_test_layer2, weights) + biases)\n",
    "\n",
    "num_steps = 12001\n",
    "\n",
    "with tf.Session(graph=graph) as session:\n",
    "    tf.global_variables_initializer().run()\n",
    "    print(\"Initialized\")\n",
    "    for step in range(num_steps):\n",
    "        offset = (step * BATCH_SIZE) % (train_labels.shape[0] - BATCH_SIZE)\n",
    "        batch_data = train_dataset[offset:(offset + BATCH_SIZE), :]\n",
    "        batch_labels = train_labels[offset:(offset + BATCH_SIZE), :]\n",
    "        feed_dict = {tf_train_dataset : batch_data, tf_train_labels : batch_labels}\n",
    "        _, l, predictions = session.run(\n",
    "            [optimizer, loss, train_prediction], feed_dict=feed_dict)\n",
    "    print(\"Test accuracy: %.1f%%\" % accuracy(test_prediction.eval(), test_labels))"
   ]
  }
 ],
 "metadata": {
  "anaconda-cloud": {},
  "kernelspec": {
   "display_name": "Python [default]",
   "language": "python",
   "name": "python2"
  },
  "language_info": {
   "codemirror_mode": {
    "name": "ipython",
    "version": 2
   },
   "file_extension": ".py",
   "mimetype": "text/x-python",
   "name": "python",
   "nbconvert_exporter": "python",
   "pygments_lexer": "ipython2",
   "version": "2.7.12"
  }
 },
 "nbformat": 4,
 "nbformat_minor": 1
}
